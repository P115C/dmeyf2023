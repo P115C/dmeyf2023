{
 "cells": [
  {
   "cell_type": "code",
   "execution_count": null,
   "metadata": {},
   "outputs": [],
   "source": [
    "import duckdb\n",
    "import pandas as pd\n",
    "\n",
    "%load_ext sql\n",
    "%config SqlMagic.autopandas = True\n",
    "%config SqlMagic.feedback = False\n",
    "%config SqlMagic.displaycon = False\n",
    "\n",
    "%sql duckdb:///:default:"
   ]
  },
  {
   "cell_type": "code",
   "execution_count": null,
   "metadata": {},
   "outputs": [],
   "source": [
    "%%sql\n",
    "select 'hola' as col"
   ]
  },
  {
   "cell_type": "code",
   "execution_count": null,
   "metadata": {},
   "outputs": [],
   "source": [
    "%%sql\n",
    "\n",
    "create or replace table competencia_02 as \n",
    "\n",
    "select \n",
    "    *\n",
    "from read_csv_auto('~/buckets/b1/competencia_02_crudo.csv.gz')"
   ]
  },
  {
   "cell_type": "code",
   "execution_count": null,
   "metadata": {},
   "outputs": [],
   "source": [
    "%sql select count(*) from competencia_02"
   ]
  },
  {
   "cell_type": "code",
   "execution_count": null,
   "metadata": {},
   "outputs": [],
   "source": [
    "%%sql\n",
    "\n",
    "create or replace table competencia_02 as \n",
    "\n",
    "select \n",
    "    *,\n",
    "    strptime(foto_mes, '%Y%m') as foto_mes_ts\n",
    "from competencia_02"
   ]
  },
  {
   "cell_type": "code",
   "execution_count": null,
   "metadata": {},
   "outputs": [],
   "source": [
    "duckdb.query(\"describe select foto_mes_ts from competencia_02\")"
   ]
  },
  {
   "cell_type": "code",
   "execution_count": null,
   "metadata": {},
   "outputs": [],
   "source": [
    "%%sql \n",
    "\n",
    "select \n",
    "* \n",
    "from competencia_02 \n",
    "limit 5"
   ]
  },
  {
   "cell_type": "code",
   "execution_count": null,
   "metadata": {},
   "outputs": [],
   "source": [
    "%%sql\n",
    "\n",
    "select \n",
    "    foto_mes, \n",
    "    count(*) as cantidad                        \n",
    "from competencia_02\n",
    "group by foto_mes"
   ]
  },
  {
   "cell_type": "code",
   "execution_count": null,
   "metadata": {},
   "outputs": [],
   "source": [
    "%%sql\n",
    "\n",
    "select \n",
    "    max(foto_mes_ts)                      \n",
    "from competencia_02"
   ]
  },
  {
   "cell_type": "code",
   "execution_count": null,
   "metadata": {},
   "outputs": [],
   "source": [
    "%%sql\n",
    "\n",
    "create or replace table competencia_02 as \n",
    "\n",
    "select\n",
    "    *,\n",
    "    lead(t0.foto_mes_ts, 1) over ventana as foto_mes_ts_prox_1, \n",
    "    lead(t0.foto_mes_ts, 2) over ventana as foto_mes_ts_prox_2\n",
    "from competencia_02 t0\n",
    "window ventana as (partition by numero_de_cliente order by foto_mes)"
   ]
  },
  {
   "cell_type": "code",
   "execution_count": null,
   "metadata": {},
   "outputs": [],
   "source": [
    "%%sql\n",
    "\n",
    "select \n",
    "    *\n",
    "from competencia_02\n",
    "limit 5"
   ]
  },
  {
   "cell_type": "code",
   "execution_count": null,
   "metadata": {},
   "outputs": [],
   "source": [
    "%%sql\n",
    "\n",
    "create or replace table competencia_02 as \n",
    "\n",
    "select\n",
    "    *,\n",
    "    case\n",
    "        WHEN (date_diff('month', t0.foto_mes_ts, TIMESTAMP '2021-05-01') <= 1) THEN NULL\n",
    "        WHEN ((t0.foto_mes_ts_prox_1 is NULL) OR \n",
    "              (date_diff('month', t0.foto_mes_ts, t0.foto_mes_ts_prox_1) != 1)) THEN 'BAJA+1'\n",
    "        WHEN ((t0.foto_mes_ts_prox_2 is NULL) OR \n",
    "              (date_diff('month', t0.foto_mes_ts, t0.foto_mes_ts_prox_2) != 2)) THEN 'BAJA+2' \n",
    "        ELSE 'CONTINUA'\n",
    "    END as clase_ternaria\n",
    "from competencia_02 t0"
   ]
  },
  {
   "cell_type": "code",
   "execution_count": null,
   "metadata": {},
   "outputs": [],
   "source": [
    "%%sql\n",
    "\n",
    "ALTER TABLE competencia_02 DROP foto_mes_ts;\n",
    "ALTER TABLE competencia_02 DROP foto_mes_ts_prox_1;\n",
    "ALTER TABLE competencia_02 DROP foto_mes_ts_prox_2;"
   ]
  },
  {
   "cell_type": "code",
   "execution_count": null,
   "metadata": {},
   "outputs": [],
   "source": [
    "%sql select * from competencia_02 limit 5"
   ]
  },
  {
   "cell_type": "code",
   "execution_count": null,
   "metadata": {},
   "outputs": [],
   "source": [
    "%%sql\n",
    "\n",
    "select \n",
    "    clase_ternaria, \n",
    "    count(*) as cant,\n",
    "from competencia_02\n",
    "group by clase_ternaria"
   ]
  },
  {
   "cell_type": "code",
   "execution_count": null,
   "metadata": {},
   "outputs": [],
   "source": [
    "%%sql\n",
    "COPY competencia_02 TO '~/buckets/b1/competencia_02.csv.gz' (FORMAT CSV, COMPRESSION GZIP, HEADER)"
   ]
  }
 ],
 "metadata": {
  "kernelspec": {
   "display_name": "Python 3",
   "language": "python",
   "name": "python3"
  },
  "language_info": {
   "codemirror_mode": {
    "name": "ipython",
    "version": 3
   },
   "file_extension": ".py",
   "mimetype": "text/x-python",
   "name": "python",
   "nbconvert_exporter": "python",
   "pygments_lexer": "ipython3",
   "version": "3.11.2"
  },
  "orig_nbformat": 4
 },
 "nbformat": 4,
 "nbformat_minor": 2
}
